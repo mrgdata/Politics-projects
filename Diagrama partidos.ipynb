{
 "cells": [
  {
   "cell_type": "markdown",
   "id": "40077cff",
   "metadata": {},
   "source": [
    "## Diagrama de valores en la ESS"
   ]
  },
  {
   "cell_type": "markdown",
   "id": "b11b3356",
   "metadata": {},
   "source": [
    "### Paquetes"
   ]
  },
  {
   "cell_type": "code",
   "execution_count": null,
   "id": "12a1b873",
   "metadata": {},
   "outputs": [],
   "source": [
    "!pip install pyreadstat"
   ]
  },
  {
   "cell_type": "code",
   "execution_count": 3,
   "id": "3b0fea40",
   "metadata": {},
   "outputs": [],
   "source": [
    "import pandas as pd\n",
    "import matplotlib as mpl\n",
    "import seaborn as sns\n",
    "import pyreadstat\n",
    "import numpy as np\n",
    "import statistics as st\n",
    "from statistics import mode"
   ]
  },
  {
   "cell_type": "markdown",
   "id": "7634e461",
   "metadata": {},
   "source": [
    "### Datos"
   ]
  },
  {
   "cell_type": "code",
   "execution_count": 15,
   "id": "d2b558d0",
   "metadata": {},
   "outputs": [],
   "source": [
    "df, meta = pyreadstat.read_sav(\"Documents/MEGA/Manu/UPO/Curso 5º-2/Pol/ESS9.sav\")\n",
    "# este paquete es mejor que pandas solo"
   ]
  },
  {
   "cell_type": "code",
   "execution_count": 16,
   "id": "eed6f705",
   "metadata": {},
   "outputs": [
    {
     "data": {
      "text/html": [
       "<div>\n",
       "<style scoped>\n",
       "    .dataframe tbody tr th:only-of-type {\n",
       "        vertical-align: middle;\n",
       "    }\n",
       "\n",
       "    .dataframe tbody tr th {\n",
       "        vertical-align: top;\n",
       "    }\n",
       "\n",
       "    .dataframe thead th {\n",
       "        text-align: right;\n",
       "    }\n",
       "</style>\n",
       "<table border=\"1\" class=\"dataframe\">\n",
       "  <thead>\n",
       "    <tr style=\"text-align: right;\">\n",
       "      <th></th>\n",
       "      <th>name</th>\n",
       "      <th>essround</th>\n",
       "      <th>edition</th>\n",
       "      <th>proddate</th>\n",
       "      <th>idno</th>\n",
       "      <th>cntry</th>\n",
       "      <th>nwspol</th>\n",
       "      <th>netusoft</th>\n",
       "      <th>netustm</th>\n",
       "      <th>ppltrst</th>\n",
       "      <th>...</th>\n",
       "      <th>ZNONCONVENTIONAL</th>\n",
       "      <th>ZEstr_Oport</th>\n",
       "      <th>ZSelf_Oport</th>\n",
       "      <th>ZIncome_rec</th>\n",
       "      <th>Zagea</th>\n",
       "      <th>Zeduyrs</th>\n",
       "      <th>PRE_6</th>\n",
       "      <th>PRE_7</th>\n",
       "      <th>ZPRE_6</th>\n",
       "      <th>ZPRE_7</th>\n",
       "    </tr>\n",
       "  </thead>\n",
       "  <tbody>\n",
       "    <tr>\n",
       "      <th>0</th>\n",
       "      <td>ESS9e03_1</td>\n",
       "      <td>9.0</td>\n",
       "      <td>3.1</td>\n",
       "      <td>17.02.2021</td>\n",
       "      <td>112061.0</td>\n",
       "      <td>DK</td>\n",
       "      <td>30.0</td>\n",
       "      <td>5.0</td>\n",
       "      <td>30.0</td>\n",
       "      <td>7.0</td>\n",
       "      <td>...</td>\n",
       "      <td>-0.693482</td>\n",
       "      <td>-0.253449</td>\n",
       "      <td>-0.173913</td>\n",
       "      <td>NaN</td>\n",
       "      <td>1.607585</td>\n",
       "      <td>NaN</td>\n",
       "      <td>NaN</td>\n",
       "      <td>NaN</td>\n",
       "      <td>NaN</td>\n",
       "      <td>NaN</td>\n",
       "    </tr>\n",
       "    <tr>\n",
       "      <th>1</th>\n",
       "      <td>ESS9e03_1</td>\n",
       "      <td>9.0</td>\n",
       "      <td>3.1</td>\n",
       "      <td>17.02.2021</td>\n",
       "      <td>112183.0</td>\n",
       "      <td>DK</td>\n",
       "      <td>10.0</td>\n",
       "      <td>5.0</td>\n",
       "      <td>150.0</td>\n",
       "      <td>7.0</td>\n",
       "      <td>...</td>\n",
       "      <td>0.047189</td>\n",
       "      <td>0.941977</td>\n",
       "      <td>0.351911</td>\n",
       "      <td>NaN</td>\n",
       "      <td>-1.756717</td>\n",
       "      <td>NaN</td>\n",
       "      <td>NaN</td>\n",
       "      <td>NaN</td>\n",
       "      <td>NaN</td>\n",
       "      <td>NaN</td>\n",
       "    </tr>\n",
       "    <tr>\n",
       "      <th>2</th>\n",
       "      <td>ESS9e03_1</td>\n",
       "      <td>9.0</td>\n",
       "      <td>3.1</td>\n",
       "      <td>17.02.2021</td>\n",
       "      <td>17152.0</td>\n",
       "      <td>EE</td>\n",
       "      <td>90.0</td>\n",
       "      <td>5.0</td>\n",
       "      <td>60.0</td>\n",
       "      <td>5.0</td>\n",
       "      <td>...</td>\n",
       "      <td>1.528530</td>\n",
       "      <td>-1.448876</td>\n",
       "      <td>0.877735</td>\n",
       "      <td>-0.529169</td>\n",
       "      <td>1.187047</td>\n",
       "      <td>-0.465263</td>\n",
       "      <td>NaN</td>\n",
       "      <td>NaN</td>\n",
       "      <td>NaN</td>\n",
       "      <td>NaN</td>\n",
       "    </tr>\n",
       "    <tr>\n",
       "      <th>3</th>\n",
       "      <td>ESS9e03_1</td>\n",
       "      <td>9.0</td>\n",
       "      <td>3.1</td>\n",
       "      <td>17.02.2021</td>\n",
       "      <td>59415.0</td>\n",
       "      <td>ES</td>\n",
       "      <td>10.0</td>\n",
       "      <td>5.0</td>\n",
       "      <td>20.0</td>\n",
       "      <td>2.0</td>\n",
       "      <td>...</td>\n",
       "      <td>-0.693482</td>\n",
       "      <td>-1.448876</td>\n",
       "      <td>-1.225560</td>\n",
       "      <td>NaN</td>\n",
       "      <td>-0.284835</td>\n",
       "      <td>NaN</td>\n",
       "      <td>NaN</td>\n",
       "      <td>NaN</td>\n",
       "      <td>NaN</td>\n",
       "      <td>NaN</td>\n",
       "    </tr>\n",
       "    <tr>\n",
       "      <th>4</th>\n",
       "      <td>ESS9e03_1</td>\n",
       "      <td>9.0</td>\n",
       "      <td>3.1</td>\n",
       "      <td>17.02.2021</td>\n",
       "      <td>26499.0</td>\n",
       "      <td>FI</td>\n",
       "      <td>60.0</td>\n",
       "      <td>5.0</td>\n",
       "      <td>150.0</td>\n",
       "      <td>6.0</td>\n",
       "      <td>...</td>\n",
       "      <td>2.269201</td>\n",
       "      <td>0.344264</td>\n",
       "      <td>0.877735</td>\n",
       "      <td>-0.886237</td>\n",
       "      <td>-1.493881</td>\n",
       "      <td>-0.232676</td>\n",
       "      <td>NaN</td>\n",
       "      <td>NaN</td>\n",
       "      <td>NaN</td>\n",
       "      <td>NaN</td>\n",
       "    </tr>\n",
       "  </tbody>\n",
       "</table>\n",
       "<p>5 rows × 627 columns</p>\n",
       "</div>"
      ],
      "text/plain": [
       "        name  essround edition    proddate      idno cntry  nwspol  netusoft  \\\n",
       "0  ESS9e03_1       9.0     3.1  17.02.2021  112061.0    DK    30.0       5.0   \n",
       "1  ESS9e03_1       9.0     3.1  17.02.2021  112183.0    DK    10.0       5.0   \n",
       "2  ESS9e03_1       9.0     3.1  17.02.2021   17152.0    EE    90.0       5.0   \n",
       "3  ESS9e03_1       9.0     3.1  17.02.2021   59415.0    ES    10.0       5.0   \n",
       "4  ESS9e03_1       9.0     3.1  17.02.2021   26499.0    FI    60.0       5.0   \n",
       "\n",
       "   netustm  ppltrst  ...  ZNONCONVENTIONAL  ZEstr_Oport  ZSelf_Oport  \\\n",
       "0     30.0      7.0  ...         -0.693482    -0.253449    -0.173913   \n",
       "1    150.0      7.0  ...          0.047189     0.941977     0.351911   \n",
       "2     60.0      5.0  ...          1.528530    -1.448876     0.877735   \n",
       "3     20.0      2.0  ...         -0.693482    -1.448876    -1.225560   \n",
       "4    150.0      6.0  ...          2.269201     0.344264     0.877735   \n",
       "\n",
       "   ZIncome_rec     Zagea   Zeduyrs  PRE_6  PRE_7  ZPRE_6  ZPRE_7  \n",
       "0          NaN  1.607585       NaN    NaN    NaN     NaN     NaN  \n",
       "1          NaN -1.756717       NaN    NaN    NaN     NaN     NaN  \n",
       "2    -0.529169  1.187047 -0.465263    NaN    NaN     NaN     NaN  \n",
       "3          NaN -0.284835       NaN    NaN    NaN     NaN     NaN  \n",
       "4    -0.886237 -1.493881 -0.232676    NaN    NaN     NaN     NaN  \n",
       "\n",
       "[5 rows x 627 columns]"
      ]
     },
     "execution_count": 16,
     "metadata": {},
     "output_type": "execute_result"
    }
   ],
   "source": [
    "df.head()"
   ]
  },
  {
   "cell_type": "code",
   "execution_count": 5,
   "id": "be7e21ac",
   "metadata": {},
   "outputs": [
    {
     "data": {
      "text/plain": [
       "array(['DK', 'EE', 'ES', 'FI', 'FR', 'HU', 'IE', 'IS', 'IT', 'LT', 'LV',\n",
       "       'ME', 'NO', 'SE', 'SI', 'SK', 'AT', 'BE', 'BG', 'CH', 'CY', 'CZ',\n",
       "       'DE', 'GB', 'HR', 'NL', 'PL', 'PT', 'RS'], dtype=object)"
      ]
     },
     "execution_count": 5,
     "metadata": {},
     "output_type": "execute_result"
    }
   ],
   "source": [
    "df[\"cntry\"].unique()"
   ]
  },
  {
   "cell_type": "markdown",
   "id": "ebcd6bd9",
   "metadata": {},
   "source": [
    "## 1. Alemania"
   ]
  },
  {
   "cell_type": "code",
   "execution_count": 6,
   "id": "7e396d07",
   "metadata": {},
   "outputs": [
    {
     "data": {
      "text/html": [
       "<div>\n",
       "<style scoped>\n",
       "    .dataframe tbody tr th:only-of-type {\n",
       "        vertical-align: middle;\n",
       "    }\n",
       "\n",
       "    .dataframe tbody tr th {\n",
       "        vertical-align: top;\n",
       "    }\n",
       "\n",
       "    .dataframe thead th {\n",
       "        text-align: right;\n",
       "    }\n",
       "</style>\n",
       "<table border=\"1\" class=\"dataframe\">\n",
       "  <thead>\n",
       "    <tr style=\"text-align: right;\">\n",
       "      <th></th>\n",
       "      <th>LEFT</th>\n",
       "      <th>RIG</th>\n",
       "      <th>EXRIG</th>\n",
       "      <th>FAC1_1</th>\n",
       "      <th>FAC2_1</th>\n",
       "      <th>FAC3_1</th>\n",
       "      <th>FAC4_1</th>\n",
       "      <th>FAC1_2</th>\n",
       "      <th>EDLEVR</th>\n",
       "      <th>PSOE</th>\n",
       "      <th>PP</th>\n",
       "      <th>VOX</th>\n",
       "      <th>UP</th>\n",
       "      <th>CS</th>\n",
       "      <th>FAC1_3</th>\n",
       "      <th>FAC2_3</th>\n",
       "      <th>class8</th>\n",
       "      <th>PRE_1</th>\n",
       "      <th>PRE_2</th>\n",
       "      <th>PRE_3</th>\n",
       "    </tr>\n",
       "  </thead>\n",
       "  <tbody>\n",
       "    <tr>\n",
       "      <th>3710</th>\n",
       "      <td>NaN</td>\n",
       "      <td>NaN</td>\n",
       "      <td>NaN</td>\n",
       "      <td>NaN</td>\n",
       "      <td>NaN</td>\n",
       "      <td>NaN</td>\n",
       "      <td>NaN</td>\n",
       "      <td>NaN</td>\n",
       "      <td>NaN</td>\n",
       "      <td>NaN</td>\n",
       "      <td>NaN</td>\n",
       "      <td>NaN</td>\n",
       "      <td>NaN</td>\n",
       "      <td>NaN</td>\n",
       "      <td>NaN</td>\n",
       "      <td>NaN</td>\n",
       "      <td>6.0</td>\n",
       "      <td>0.665315</td>\n",
       "      <td>0.833631</td>\n",
       "      <td>0.886953</td>\n",
       "    </tr>\n",
       "    <tr>\n",
       "      <th>3711</th>\n",
       "      <td>NaN</td>\n",
       "      <td>NaN</td>\n",
       "      <td>NaN</td>\n",
       "      <td>NaN</td>\n",
       "      <td>NaN</td>\n",
       "      <td>NaN</td>\n",
       "      <td>NaN</td>\n",
       "      <td>NaN</td>\n",
       "      <td>NaN</td>\n",
       "      <td>NaN</td>\n",
       "      <td>NaN</td>\n",
       "      <td>NaN</td>\n",
       "      <td>NaN</td>\n",
       "      <td>NaN</td>\n",
       "      <td>NaN</td>\n",
       "      <td>NaN</td>\n",
       "      <td>8.0</td>\n",
       "      <td>0.580860</td>\n",
       "      <td>0.818692</td>\n",
       "      <td>0.828321</td>\n",
       "    </tr>\n",
       "    <tr>\n",
       "      <th>3712</th>\n",
       "      <td>NaN</td>\n",
       "      <td>NaN</td>\n",
       "      <td>NaN</td>\n",
       "      <td>NaN</td>\n",
       "      <td>NaN</td>\n",
       "      <td>NaN</td>\n",
       "      <td>NaN</td>\n",
       "      <td>NaN</td>\n",
       "      <td>NaN</td>\n",
       "      <td>NaN</td>\n",
       "      <td>NaN</td>\n",
       "      <td>NaN</td>\n",
       "      <td>NaN</td>\n",
       "      <td>NaN</td>\n",
       "      <td>NaN</td>\n",
       "      <td>NaN</td>\n",
       "      <td>2.0</td>\n",
       "      <td>0.640397</td>\n",
       "      <td>0.704884</td>\n",
       "      <td>0.842507</td>\n",
       "    </tr>\n",
       "    <tr>\n",
       "      <th>3713</th>\n",
       "      <td>NaN</td>\n",
       "      <td>NaN</td>\n",
       "      <td>NaN</td>\n",
       "      <td>NaN</td>\n",
       "      <td>NaN</td>\n",
       "      <td>NaN</td>\n",
       "      <td>NaN</td>\n",
       "      <td>NaN</td>\n",
       "      <td>NaN</td>\n",
       "      <td>NaN</td>\n",
       "      <td>NaN</td>\n",
       "      <td>NaN</td>\n",
       "      <td>NaN</td>\n",
       "      <td>NaN</td>\n",
       "      <td>NaN</td>\n",
       "      <td>NaN</td>\n",
       "      <td>NaN</td>\n",
       "      <td>NaN</td>\n",
       "      <td>NaN</td>\n",
       "      <td>NaN</td>\n",
       "    </tr>\n",
       "    <tr>\n",
       "      <th>3714</th>\n",
       "      <td>NaN</td>\n",
       "      <td>NaN</td>\n",
       "      <td>NaN</td>\n",
       "      <td>NaN</td>\n",
       "      <td>NaN</td>\n",
       "      <td>NaN</td>\n",
       "      <td>NaN</td>\n",
       "      <td>NaN</td>\n",
       "      <td>NaN</td>\n",
       "      <td>NaN</td>\n",
       "      <td>NaN</td>\n",
       "      <td>NaN</td>\n",
       "      <td>NaN</td>\n",
       "      <td>NaN</td>\n",
       "      <td>NaN</td>\n",
       "      <td>NaN</td>\n",
       "      <td>7.0</td>\n",
       "      <td>0.582055</td>\n",
       "      <td>0.791715</td>\n",
       "      <td>0.926678</td>\n",
       "    </tr>\n",
       "    <tr>\n",
       "      <th>...</th>\n",
       "      <td>...</td>\n",
       "      <td>...</td>\n",
       "      <td>...</td>\n",
       "      <td>...</td>\n",
       "      <td>...</td>\n",
       "      <td>...</td>\n",
       "      <td>...</td>\n",
       "      <td>...</td>\n",
       "      <td>...</td>\n",
       "      <td>...</td>\n",
       "      <td>...</td>\n",
       "      <td>...</td>\n",
       "      <td>...</td>\n",
       "      <td>...</td>\n",
       "      <td>...</td>\n",
       "      <td>...</td>\n",
       "      <td>...</td>\n",
       "      <td>...</td>\n",
       "      <td>...</td>\n",
       "      <td>...</td>\n",
       "    </tr>\n",
       "    <tr>\n",
       "      <th>24732</th>\n",
       "      <td>NaN</td>\n",
       "      <td>NaN</td>\n",
       "      <td>NaN</td>\n",
       "      <td>NaN</td>\n",
       "      <td>NaN</td>\n",
       "      <td>NaN</td>\n",
       "      <td>NaN</td>\n",
       "      <td>NaN</td>\n",
       "      <td>NaN</td>\n",
       "      <td>NaN</td>\n",
       "      <td>NaN</td>\n",
       "      <td>NaN</td>\n",
       "      <td>NaN</td>\n",
       "      <td>NaN</td>\n",
       "      <td>NaN</td>\n",
       "      <td>NaN</td>\n",
       "      <td>5.0</td>\n",
       "      <td>0.740297</td>\n",
       "      <td>0.707875</td>\n",
       "      <td>0.906273</td>\n",
       "    </tr>\n",
       "    <tr>\n",
       "      <th>24733</th>\n",
       "      <td>NaN</td>\n",
       "      <td>NaN</td>\n",
       "      <td>NaN</td>\n",
       "      <td>NaN</td>\n",
       "      <td>NaN</td>\n",
       "      <td>NaN</td>\n",
       "      <td>NaN</td>\n",
       "      <td>NaN</td>\n",
       "      <td>NaN</td>\n",
       "      <td>NaN</td>\n",
       "      <td>NaN</td>\n",
       "      <td>NaN</td>\n",
       "      <td>NaN</td>\n",
       "      <td>NaN</td>\n",
       "      <td>NaN</td>\n",
       "      <td>NaN</td>\n",
       "      <td>6.0</td>\n",
       "      <td>0.665315</td>\n",
       "      <td>0.833631</td>\n",
       "      <td>0.886953</td>\n",
       "    </tr>\n",
       "    <tr>\n",
       "      <th>24734</th>\n",
       "      <td>NaN</td>\n",
       "      <td>NaN</td>\n",
       "      <td>NaN</td>\n",
       "      <td>NaN</td>\n",
       "      <td>NaN</td>\n",
       "      <td>NaN</td>\n",
       "      <td>NaN</td>\n",
       "      <td>NaN</td>\n",
       "      <td>NaN</td>\n",
       "      <td>NaN</td>\n",
       "      <td>NaN</td>\n",
       "      <td>NaN</td>\n",
       "      <td>NaN</td>\n",
       "      <td>NaN</td>\n",
       "      <td>NaN</td>\n",
       "      <td>NaN</td>\n",
       "      <td>6.0</td>\n",
       "      <td>0.665315</td>\n",
       "      <td>0.833631</td>\n",
       "      <td>0.886953</td>\n",
       "    </tr>\n",
       "    <tr>\n",
       "      <th>24735</th>\n",
       "      <td>NaN</td>\n",
       "      <td>NaN</td>\n",
       "      <td>NaN</td>\n",
       "      <td>NaN</td>\n",
       "      <td>NaN</td>\n",
       "      <td>NaN</td>\n",
       "      <td>NaN</td>\n",
       "      <td>NaN</td>\n",
       "      <td>NaN</td>\n",
       "      <td>NaN</td>\n",
       "      <td>NaN</td>\n",
       "      <td>NaN</td>\n",
       "      <td>NaN</td>\n",
       "      <td>NaN</td>\n",
       "      <td>NaN</td>\n",
       "      <td>NaN</td>\n",
       "      <td>7.0</td>\n",
       "      <td>0.582055</td>\n",
       "      <td>0.791715</td>\n",
       "      <td>0.926678</td>\n",
       "    </tr>\n",
       "    <tr>\n",
       "      <th>24736</th>\n",
       "      <td>NaN</td>\n",
       "      <td>NaN</td>\n",
       "      <td>NaN</td>\n",
       "      <td>NaN</td>\n",
       "      <td>NaN</td>\n",
       "      <td>NaN</td>\n",
       "      <td>NaN</td>\n",
       "      <td>NaN</td>\n",
       "      <td>NaN</td>\n",
       "      <td>NaN</td>\n",
       "      <td>NaN</td>\n",
       "      <td>NaN</td>\n",
       "      <td>NaN</td>\n",
       "      <td>NaN</td>\n",
       "      <td>NaN</td>\n",
       "      <td>NaN</td>\n",
       "      <td>3.0</td>\n",
       "      <td>0.637072</td>\n",
       "      <td>0.806892</td>\n",
       "      <td>0.904654</td>\n",
       "    </tr>\n",
       "  </tbody>\n",
       "</table>\n",
       "<p>2358 rows × 20 columns</p>\n",
       "</div>"
      ],
      "text/plain": [
       "       LEFT  RIG  EXRIG  FAC1_1  FAC2_1  FAC3_1  FAC4_1  FAC1_2  EDLEVR  PSOE  \\\n",
       "3710    NaN  NaN    NaN     NaN     NaN     NaN     NaN     NaN     NaN   NaN   \n",
       "3711    NaN  NaN    NaN     NaN     NaN     NaN     NaN     NaN     NaN   NaN   \n",
       "3712    NaN  NaN    NaN     NaN     NaN     NaN     NaN     NaN     NaN   NaN   \n",
       "3713    NaN  NaN    NaN     NaN     NaN     NaN     NaN     NaN     NaN   NaN   \n",
       "3714    NaN  NaN    NaN     NaN     NaN     NaN     NaN     NaN     NaN   NaN   \n",
       "...     ...  ...    ...     ...     ...     ...     ...     ...     ...   ...   \n",
       "24732   NaN  NaN    NaN     NaN     NaN     NaN     NaN     NaN     NaN   NaN   \n",
       "24733   NaN  NaN    NaN     NaN     NaN     NaN     NaN     NaN     NaN   NaN   \n",
       "24734   NaN  NaN    NaN     NaN     NaN     NaN     NaN     NaN     NaN   NaN   \n",
       "24735   NaN  NaN    NaN     NaN     NaN     NaN     NaN     NaN     NaN   NaN   \n",
       "24736   NaN  NaN    NaN     NaN     NaN     NaN     NaN     NaN     NaN   NaN   \n",
       "\n",
       "       PP  VOX  UP  CS  FAC1_3  FAC2_3  class8     PRE_1     PRE_2     PRE_3  \n",
       "3710  NaN  NaN NaN NaN     NaN     NaN     6.0  0.665315  0.833631  0.886953  \n",
       "3711  NaN  NaN NaN NaN     NaN     NaN     8.0  0.580860  0.818692  0.828321  \n",
       "3712  NaN  NaN NaN NaN     NaN     NaN     2.0  0.640397  0.704884  0.842507  \n",
       "3713  NaN  NaN NaN NaN     NaN     NaN     NaN       NaN       NaN       NaN  \n",
       "3714  NaN  NaN NaN NaN     NaN     NaN     7.0  0.582055  0.791715  0.926678  \n",
       "...    ..  ...  ..  ..     ...     ...     ...       ...       ...       ...  \n",
       "24732 NaN  NaN NaN NaN     NaN     NaN     5.0  0.740297  0.707875  0.906273  \n",
       "24733 NaN  NaN NaN NaN     NaN     NaN     6.0  0.665315  0.833631  0.886953  \n",
       "24734 NaN  NaN NaN NaN     NaN     NaN     6.0  0.665315  0.833631  0.886953  \n",
       "24735 NaN  NaN NaN NaN     NaN     NaN     7.0  0.582055  0.791715  0.926678  \n",
       "24736 NaN  NaN NaN NaN     NaN     NaN     3.0  0.637072  0.806892  0.904654  \n",
       "\n",
       "[2358 rows x 20 columns]"
      ]
     },
     "execution_count": 6,
     "metadata": {},
     "output_type": "execute_result"
    }
   ],
   "source": [
    "# Alemania y España\n",
    "df_1 = df[df[\"cntry\"] == \"DE\"].copy() \n",
    "# Vemos algunas filas\n",
    "df_1.iloc[:, 580:600] "
   ]
  },
  {
   "cell_type": "code",
   "execution_count": 7,
   "id": "a0b2e14e",
   "metadata": {
    "scrolled": true
   },
   "outputs": [
    {
     "data": {
      "text/plain": [
       "count    2088.000000\n",
       "mean        6.072318\n",
       "std         2.813657\n",
       "min         1.000000\n",
       "25%         4.000000\n",
       "50%         6.000000\n",
       "75%         8.250000\n",
       "max        10.000000\n",
       "Name: hinctnta, dtype: float64"
      ]
     },
     "execution_count": 7,
     "metadata": {},
     "output_type": "execute_result"
    }
   ],
   "source": [
    "# Ingresos\n",
    "df_1[\"hinctnta\"].describe()"
   ]
  },
  {
   "cell_type": "code",
   "execution_count": 8,
   "id": "87772810",
   "metadata": {},
   "outputs": [
    {
     "data": {
      "text/plain": [
       "count    2358.000000\n",
       "mean        2.884648\n",
       "std         1.080671\n",
       "min         1.000000\n",
       "25%         2.000000\n",
       "50%         3.000000\n",
       "75%         4.000000\n",
       "max         5.000000\n",
       "Name: domicil, dtype: float64"
      ]
     },
     "execution_count": 8,
     "metadata": {},
     "output_type": "execute_result"
    }
   ],
   "source": [
    "df_1[\"domicil\"].describe()"
   ]
  },
  {
   "cell_type": "code",
   "execution_count": 9,
   "id": "c2e5c754",
   "metadata": {},
   "outputs": [
    {
     "data": {
      "text/html": [
       "<div>\n",
       "<style scoped>\n",
       "    .dataframe tbody tr th:only-of-type {\n",
       "        vertical-align: middle;\n",
       "    }\n",
       "\n",
       "    .dataframe tbody tr th {\n",
       "        vertical-align: top;\n",
       "    }\n",
       "\n",
       "    .dataframe thead th {\n",
       "        text-align: right;\n",
       "    }\n",
       "</style>\n",
       "<table border=\"1\" class=\"dataframe\">\n",
       "  <thead>\n",
       "    <tr style=\"text-align: right;\">\n",
       "      <th></th>\n",
       "      <th>prtvede1</th>\n",
       "      <th>domicil</th>\n",
       "      <th>cntry</th>\n",
       "      <th>hinctnta</th>\n",
       "      <th>imwbcnt</th>\n",
       "      <th>gincdif</th>\n",
       "    </tr>\n",
       "  </thead>\n",
       "  <tbody>\n",
       "    <tr>\n",
       "      <th>3710</th>\n",
       "      <td>No procede</td>\n",
       "      <td>2.0</td>\n",
       "      <td>DE</td>\n",
       "      <td>3.0</td>\n",
       "      <td>5.0</td>\n",
       "      <td>2.0</td>\n",
       "    </tr>\n",
       "    <tr>\n",
       "      <th>3711</th>\n",
       "      <td>1.0</td>\n",
       "      <td>2.0</td>\n",
       "      <td>DE</td>\n",
       "      <td>6.0</td>\n",
       "      <td>5.0</td>\n",
       "      <td>1.0</td>\n",
       "    </tr>\n",
       "    <tr>\n",
       "      <th>3712</th>\n",
       "      <td>9.0</td>\n",
       "      <td>2.0</td>\n",
       "      <td>DE</td>\n",
       "      <td>8.0</td>\n",
       "      <td>8.0</td>\n",
       "      <td>3.0</td>\n",
       "    </tr>\n",
       "    <tr>\n",
       "      <th>3713</th>\n",
       "      <td>2.0</td>\n",
       "      <td>2.0</td>\n",
       "      <td>DE</td>\n",
       "      <td>6.0</td>\n",
       "      <td>7.0</td>\n",
       "      <td>1.0</td>\n",
       "    </tr>\n",
       "    <tr>\n",
       "      <th>3714</th>\n",
       "      <td>2.0</td>\n",
       "      <td>1.0</td>\n",
       "      <td>DE</td>\n",
       "      <td>5.0</td>\n",
       "      <td>8.0</td>\n",
       "      <td>1.0</td>\n",
       "    </tr>\n",
       "  </tbody>\n",
       "</table>\n",
       "</div>"
      ],
      "text/plain": [
       "        prtvede1  domicil cntry  hinctnta  imwbcnt  gincdif\n",
       "3710  No procede      2.0    DE       3.0      5.0      2.0\n",
       "3711         1.0      2.0    DE       6.0      5.0      1.0\n",
       "3712         9.0      2.0    DE       8.0      8.0      3.0\n",
       "3713         2.0      2.0    DE       6.0      7.0      1.0\n",
       "3714         2.0      1.0    DE       5.0      8.0      1.0"
      ]
     },
     "execution_count": 9,
     "metadata": {},
     "output_type": "execute_result"
    }
   ],
   "source": [
    "# seleccionamos las filas\n",
    "df_1 = df_1[[\"prtvede1\", \"domicil\", \"cntry\", \"hinctnta\", \"imwbcnt\", \"gincdif\"]]\n",
    "# Sustituimos NA\n",
    "df_1[\"prtvede1\"] = df_1[\"prtvede1\"].fillna(\"No procede\")\n",
    "\n",
    "# en este tenemos que calcular la moda\n",
    "df_1[\"domicil\"] = df_1[\"domicil\"].fillna(mode(df_1[\"domicil\"]))\n",
    "\n",
    "# Aquí sencillamente ponemos la mediana utilizando numpy\n",
    "df_1[\"hinctnta\"] = df_1[\"hinctnta\"].fillna(np.nanmedian(df_1[\"hinctnta\"]))\n",
    "\n",
    "df_1[\"imwbcnt\"] = df_1[\"imwbcnt\"].fillna(np.nanmedian(df_1[\"imwbcnt\"]))\n",
    "\n",
    "df_1[\"gincdif\"] = df_1[\"gincdif\"].fillna(np.nanmedian(df_1[\"gincdif\"]))\n",
    "\n",
    "\n",
    "df_1.head()"
   ]
  },
  {
   "cell_type": "code",
   "execution_count": 10,
   "id": "15c2400d",
   "metadata": {},
   "outputs": [
    {
     "data": {
      "text/plain": [
       "array(['2.0', '1.0', '3.0', '4.0', '5.0'], dtype=object)"
      ]
     },
     "execution_count": 10,
     "metadata": {},
     "output_type": "execute_result"
    }
   ],
   "source": [
    "df_1[\"domicil\"] = df[\"domicil\"].astype(str)\n",
    "df_1[\"domicil\"].unique()"
   ]
  },
  {
   "cell_type": "code",
   "execution_count": 11,
   "id": "77055128",
   "metadata": {},
   "outputs": [
    {
     "data": {
      "text/plain": [
       "array([250000, 750000,  60000,  12500,   2500], dtype=int64)"
      ]
     },
     "execution_count": 11,
     "metadata": {},
     "output_type": "execute_result"
    }
   ],
   "source": [
    "# Diccionario para la variable de lugar. Basados en la WVS, aproximación\n",
    "townmap = {\n",
    "    \"1.0\":750000,\n",
    "    \"2.0\": 250000,\n",
    "    \"3.0\":60000,\n",
    "    \"4.0\":12500,\n",
    "   \"5.0\":2500,\n",
    "}\n",
    "df_1[\"urbanismo\"] = df_1[\"domicil\"].apply(lambda x: townmap[x])\n",
    "df_1[\"urbanismo\"].unique()"
   ]
  },
  {
   "cell_type": "code",
   "execution_count": 12,
   "id": "028df36a",
   "metadata": {},
   "outputs": [
    {
     "data": {
      "text/plain": [
       "array(['No procede', 1.0, 9.0, 2.0, 3.0, 5.0, 4.0, 7.0, 6.0, 8.0],\n",
       "      dtype=object)"
      ]
     },
     "execution_count": 12,
     "metadata": {},
     "output_type": "execute_result"
    }
   ],
   "source": [
    "df_1[\"prtvede1\"].unique()"
   ]
  },
  {
   "cell_type": "code",
   "execution_count": 13,
   "id": "741a35e5",
   "metadata": {},
   "outputs": [
    {
     "data": {
      "text/plain": [
       "array(['No procede', 'CDU', 'SPD', 'Die Linke', 'FDP', 'Grünen', 'AfD'],\n",
       "      dtype=object)"
      ]
     },
     "execution_count": 13,
     "metadata": {},
     "output_type": "execute_result"
    }
   ],
   "source": [
    "# Diccionario para la variable de partido. \n",
    "partymap = {\n",
    "    1.0:\"CDU\",\n",
    "    2.0: \"SPD\",\n",
    "    3.0:\"Die Linke\",\n",
    "    4.0:\"Grünen\",\n",
    "    5.0:\"FDP\",\n",
    "    6.0:\"AfD\",\n",
    "    7.0:\"No procede\",\n",
    "    8.0:\"No procede\",\n",
    "    9.0:\"No procede\",\n",
    "    \"No procede\":\"No procede\"\n",
    "}\n",
    "df_1[\"party\"] = df_1[\"prtvede1\"].apply(lambda x: partymap[x])\n",
    "df_1[\"party\"].unique()"
   ]
  },
  {
   "cell_type": "code",
   "execution_count": 14,
   "id": "0598e48f",
   "metadata": {},
   "outputs": [
    {
     "data": {
      "text/plain": [
       "array([4., 5., 3., 1., 2.])"
      ]
     },
     "execution_count": 14,
     "metadata": {},
     "output_type": "execute_result"
    }
   ],
   "source": [
    "df_1[\"gincdif\"] = (df_1[\"gincdif\"]-6)*-1\n",
    "df_1[\"gincdif\"].unique()"
   ]
  },
  {
   "cell_type": "code",
   "execution_count": 15,
   "id": "93f91548",
   "metadata": {
    "scrolled": true
   },
   "outputs": [
    {
     "data": {
      "text/html": [
       "<div>\n",
       "<style scoped>\n",
       "    .dataframe tbody tr th:only-of-type {\n",
       "        vertical-align: middle;\n",
       "    }\n",
       "\n",
       "    .dataframe tbody tr th {\n",
       "        vertical-align: top;\n",
       "    }\n",
       "\n",
       "    .dataframe thead th {\n",
       "        text-align: right;\n",
       "    }\n",
       "</style>\n",
       "<table border=\"1\" class=\"dataframe\">\n",
       "  <thead>\n",
       "    <tr style=\"text-align: right;\">\n",
       "      <th></th>\n",
       "      <th>hinctnta</th>\n",
       "      <th>imwbcnt</th>\n",
       "      <th>gincdif</th>\n",
       "      <th>urbanismo</th>\n",
       "    </tr>\n",
       "    <tr>\n",
       "      <th>party</th>\n",
       "      <th></th>\n",
       "      <th></th>\n",
       "      <th></th>\n",
       "      <th></th>\n",
       "    </tr>\n",
       "  </thead>\n",
       "  <tbody>\n",
       "    <tr>\n",
       "      <th>AfD</th>\n",
       "      <td>5.552083</td>\n",
       "      <td>2.541667</td>\n",
       "      <td>3.812500</td>\n",
       "      <td>143697.916667</td>\n",
       "    </tr>\n",
       "    <tr>\n",
       "      <th>CDU</th>\n",
       "      <td>6.569307</td>\n",
       "      <td>5.242574</td>\n",
       "      <td>3.640264</td>\n",
       "      <td>137842.409241</td>\n",
       "    </tr>\n",
       "    <tr>\n",
       "      <th>Die Linke</th>\n",
       "      <td>5.616822</td>\n",
       "      <td>6.009346</td>\n",
       "      <td>4.355140</td>\n",
       "      <td>280093.457944</td>\n",
       "    </tr>\n",
       "    <tr>\n",
       "      <th>FDP</th>\n",
       "      <td>6.680412</td>\n",
       "      <td>5.123711</td>\n",
       "      <td>3.494845</td>\n",
       "      <td>186958.762887</td>\n",
       "    </tr>\n",
       "    <tr>\n",
       "      <th>Grünen</th>\n",
       "      <td>6.901345</td>\n",
       "      <td>6.600897</td>\n",
       "      <td>4.017937</td>\n",
       "      <td>221491.031390</td>\n",
       "    </tr>\n",
       "    <tr>\n",
       "      <th>SPD</th>\n",
       "      <td>6.125000</td>\n",
       "      <td>5.615000</td>\n",
       "      <td>4.035000</td>\n",
       "      <td>155775.000000</td>\n",
       "    </tr>\n",
       "  </tbody>\n",
       "</table>\n",
       "</div>"
      ],
      "text/plain": [
       "           hinctnta   imwbcnt   gincdif      urbanismo\n",
       "party                                                 \n",
       "AfD        5.552083  2.541667  3.812500  143697.916667\n",
       "CDU        6.569307  5.242574  3.640264  137842.409241\n",
       "Die Linke  5.616822  6.009346  4.355140  280093.457944\n",
       "FDP        6.680412  5.123711  3.494845  186958.762887\n",
       "Grünen     6.901345  6.600897  4.017937  221491.031390\n",
       "SPD        6.125000  5.615000  4.035000  155775.000000"
      ]
     },
     "execution_count": 15,
     "metadata": {},
     "output_type": "execute_result"
    }
   ],
   "source": [
    "means = df_1[df_1[\"party\"] != \"No procede\"].groupby(\"party\").mean()\n",
    "means"
   ]
  },
  {
   "cell_type": "code",
   "execution_count": 16,
   "id": "9ded01fe",
   "metadata": {},
   "outputs": [
    {
     "data": {
      "text/plain": [
       "<AxesSubplot:xlabel='Población', ylabel='Ingresos [Escala 1-10]'>"
      ]
     },
     "execution_count": 16,
     "metadata": {},
     "output_type": "execute_result"
    },
    {
     "data": {
      "image/png": "[encoded data removed]",
      "text/plain": [
       "<Figure size 720x720 with 1 Axes>"
      ]
     },
     "metadata": {
      "needs_background": "light"
     },
     "output_type": "display_data"
    }
   ],
   "source": [
    "from matplotlib import pyplot as plt\n",
    "plt.figure(figsize=(10, 10))\n",
    "plt.axhline(y=df_1[\"hinctnta\"].mean(), color = \"black\")\n",
    "plt.axvline(x=df_1[\"urbanismo\"].mean(), color = \"black\")\n",
    "plt.xlabel(\"Población\", fontsize=15)\n",
    "plt.ylabel(\"Ingresos [Escala 1-10]\", fontsize=15)\n",
    "sns.scatterplot(data=means, x=\"urbanismo\", y=\"hinctnta\", hue=\"party\", s=700, \n",
    "                palette=[\"dodgerblue\", \"black\", \"purple\", \"yellow\", \"green\", \"red\"])"
   ]
  },
  {
   "cell_type": "code",
   "execution_count": 17,
   "id": "332279b1",
   "metadata": {},
   "outputs": [
    {
     "data": {
      "text/plain": [
       "<AxesSubplot:xlabel='Redistribución [Escala 1-5]', ylabel='Inmigración [Escala 0-10]'>"
      ]
     },
     "execution_count": 17,
     "metadata": {},
     "output_type": "execute_result"
    },
    {
     "data": {
      "image/png": "[encoded data removed]",
      "text/plain": [
       "<Figure size 720x720 with 1 Axes>"
      ]
     },
     "metadata": {
      "needs_background": "light"
     },
     "output_type": "display_data"
    }
   ],
   "source": [
    "plt.figure(figsize=(10, 10))\n",
    "plt.axhline(y=df_1[\"imwbcnt\"].mean(), color = \"black\")\n",
    "plt.axvline(x=df_1[\"gincdif\"].mean(), color = \"black\")\n",
    "plt.xlabel(\"Redistribución [Escala 1-5]\", fontsize=15)\n",
    "plt.ylabel(\"Inmigración [Escala 0-10]\", fontsize=15)\n",
    "sns.scatterplot(data=means, x=\"gincdif\", y=\"imwbcnt\", hue=\"party\", s=700, \n",
    "                palette=[\"dodgerblue\", \"black\", \"purple\", \"yellow\", \"green\", \"red\"])"
   ]
  },
  {
   "cell_type": "code",
   "execution_count": 39,
   "id": "33afa011",
   "metadata": {},
   "outputs": [
    {
     "data": {
      "text/plain": [
       "<seaborn.axisgrid.FacetGrid at 0x16d84f504f0>"
      ]
     },
     "execution_count": 39,
     "metadata": {},
     "output_type": "execute_result"
    },
    {
     "data": {
      "text/plain": [
       "<Figure size 1440x1080 with 0 Axes>"
      ]
     },
     "metadata": {},
     "output_type": "display_data"
    },
    {
     "data": {
      "image/png": "[encoded data removed]",
      "text/plain": [
       "<Figure size 442.125x360 with 1 Axes>"
      ]
     },
     "metadata": {
      "needs_background": "light"
     },
     "output_type": "display_data"
    }
   ],
   "source": [
    "# Probamos a ver distribuciones\n",
    "plt.figure(figsize=(20,15))\n",
    "sns.displot(data=df_1[df_1[\"party\"] != \"No procede\"], x=\"imwbcnt\", hue=\"party\", kind=\"kde\", \n",
    "            palette=[\"black\", \"red\", \"purple\", \"yellow\", \"green\", \"dodgerblue\"])"
   ]
  },
  {
   "cell_type": "markdown",
   "id": "528873e9",
   "metadata": {},
   "source": [
    "## 2. España"
   ]
  },
  {
   "cell_type": "code",
   "execution_count": 71,
   "id": "69230001",
   "metadata": {},
   "outputs": [
    {
     "data": {
      "text/plain": [
       "Index(['name', 'essround', 'edition', 'proddate', 'idno', 'cntry', 'nwspol',\n",
       "       'netusoft', 'netustm', 'ppltrst',\n",
       "       ...\n",
       "       'ZNONCONVENTIONAL', 'ZEstr_Oport', 'ZSelf_Oport', 'ZIncome_rec',\n",
       "       'Zagea', 'Zeduyrs', 'PRE_6', 'PRE_7', 'ZPRE_6', 'ZPRE_7'],\n",
       "      dtype='object', length=627)"
      ]
     },
     "execution_count": 71,
     "metadata": {},
     "output_type": "execute_result"
    }
   ],
   "source": [
    "# España\n",
    "df_1 = df.loc[df[\"cntry\"] == \"ES\"]\n",
    "# Vemos algunas filas\n",
    "df_1.columns"
   ]
  },
  {
   "cell_type": "code",
   "execution_count": 72,
   "id": "7a506e56",
   "metadata": {},
   "outputs": [
    {
     "data": {
      "text/plain": [
       "count    1205.000000\n",
       "mean        5.121162\n",
       "std         2.539114\n",
       "min         1.000000\n",
       "25%         3.000000\n",
       "50%         5.000000\n",
       "75%         7.000000\n",
       "max        10.000000\n",
       "Name: hinctnta, dtype: float64"
      ]
     },
     "execution_count": 72,
     "metadata": {},
     "output_type": "execute_result"
    }
   ],
   "source": [
    "# Ingresos\n",
    "df_1[\"hinctnta\"].describe()"
   ]
  },
  {
   "cell_type": "code",
   "execution_count": 73,
   "id": "f789a5e0",
   "metadata": {},
   "outputs": [
    {
     "data": {
      "text/plain": [
       "count    1667.000000\n",
       "mean        3.034793\n",
       "std         1.153829\n",
       "min         1.000000\n",
       "25%         2.000000\n",
       "50%         3.000000\n",
       "75%         4.000000\n",
       "max         5.000000\n",
       "Name: domicil, dtype: float64"
      ]
     },
     "execution_count": 73,
     "metadata": {},
     "output_type": "execute_result"
    }
   ],
   "source": [
    "df_1[\"domicil\"].describe()"
   ]
  },
  {
   "cell_type": "code",
   "execution_count": 74,
   "id": "4532761d",
   "metadata": {},
   "outputs": [
    {
     "data": {
      "text/plain": [
       "0    4.0\n",
       "Name: domicil, dtype: float64"
      ]
     },
     "execution_count": 74,
     "metadata": {},
     "output_type": "execute_result"
    }
   ],
   "source": [
    "moda = df_1['domicil'].mode()\n",
    "moda"
   ]
  },
  {
   "cell_type": "code",
   "execution_count": 75,
   "id": "b044944d",
   "metadata": {},
   "outputs": [
    {
     "data": {
      "text/html": [
       "<div>\n",
       "<style scoped>\n",
       "    .dataframe tbody tr th:only-of-type {\n",
       "        vertical-align: middle;\n",
       "    }\n",
       "\n",
       "    .dataframe tbody tr th {\n",
       "        vertical-align: top;\n",
       "    }\n",
       "\n",
       "    .dataframe thead th {\n",
       "        text-align: right;\n",
       "    }\n",
       "</style>\n",
       "<table border=\"1\" class=\"dataframe\">\n",
       "  <thead>\n",
       "    <tr style=\"text-align: right;\">\n",
       "      <th></th>\n",
       "      <th>prtvtees</th>\n",
       "      <th>domicil</th>\n",
       "      <th>cntry</th>\n",
       "      <th>hinctnta</th>\n",
       "      <th>imwbcnt</th>\n",
       "      <th>gincdif</th>\n",
       "    </tr>\n",
       "  </thead>\n",
       "  <tbody>\n",
       "    <tr>\n",
       "      <th>3</th>\n",
       "      <td>NaN</td>\n",
       "      <td>4.0</td>\n",
       "      <td>ES</td>\n",
       "      <td>5.0</td>\n",
       "      <td>3.0</td>\n",
       "      <td>2.0</td>\n",
       "    </tr>\n",
       "    <tr>\n",
       "      <th>5840</th>\n",
       "      <td>NaN</td>\n",
       "      <td>1.0</td>\n",
       "      <td>ES</td>\n",
       "      <td>5.0</td>\n",
       "      <td>9.0</td>\n",
       "      <td>2.0</td>\n",
       "    </tr>\n",
       "    <tr>\n",
       "      <th>5841</th>\n",
       "      <td>2.0</td>\n",
       "      <td>1.0</td>\n",
       "      <td>ES</td>\n",
       "      <td>2.0</td>\n",
       "      <td>8.0</td>\n",
       "      <td>1.0</td>\n",
       "    </tr>\n",
       "    <tr>\n",
       "      <th>5842</th>\n",
       "      <td>NaN</td>\n",
       "      <td>1.0</td>\n",
       "      <td>ES</td>\n",
       "      <td>5.0</td>\n",
       "      <td>10.0</td>\n",
       "      <td>1.0</td>\n",
       "    </tr>\n",
       "    <tr>\n",
       "      <th>5843</th>\n",
       "      <td>NaN</td>\n",
       "      <td>2.0</td>\n",
       "      <td>ES</td>\n",
       "      <td>4.0</td>\n",
       "      <td>7.0</td>\n",
       "      <td>2.0</td>\n",
       "    </tr>\n",
       "  </tbody>\n",
       "</table>\n",
       "</div>"
      ],
      "text/plain": [
       "      prtvtees  domicil cntry  hinctnta  imwbcnt  gincdif\n",
       "3          NaN      4.0    ES       5.0      3.0      2.0\n",
       "5840       NaN      1.0    ES       5.0      9.0      2.0\n",
       "5841       2.0      1.0    ES       2.0      8.0      1.0\n",
       "5842       NaN      1.0    ES       5.0     10.0      1.0\n",
       "5843       NaN      2.0    ES       4.0      7.0      2.0"
      ]
     },
     "execution_count": 75,
     "metadata": {},
     "output_type": "execute_result"
    }
   ],
   "source": [
    "# seleccionamos las filas\n",
    "df_1 = df_1[[\"prtvtees\", \"domicil\", \"cntry\", \"hinctnta\", \"imwbcnt\", \"gincdif\"]]\n",
    "\n",
    "# en este tenemos que calcular la moda\n",
    "moda = df_1['domicil'].mode()\n",
    "df_1['domicil'].fillna(4.0, inplace=True)\n",
    "\n",
    "# Aquí sencillamente ponemos la mediana utilizando numpy\n",
    "df_1[\"hinctnta\"] = df_1[\"hinctnta\"].fillna(np.nanmedian(df_1[\"hinctnta\"]))\n",
    "\n",
    "df_1[\"imwbcnt\"] = df_1[\"imwbcnt\"].fillna(np.nanmedian(df_1[\"imwbcnt\"]))\n",
    "\n",
    "df_1[\"gincdif\"] = df_1[\"gincdif\"].fillna(np.nanmedian(df_1[\"gincdif\"]))\n",
    "\n",
    "\n",
    "df_1.head()"
   ]
  },
  {
   "cell_type": "code",
   "execution_count": 76,
   "id": "e212f4db",
   "metadata": {},
   "outputs": [
    {
     "data": {
      "text/plain": [
       "array([ 12500, 750000, 250000,  60000,   2500], dtype=int64)"
      ]
     },
     "execution_count": 76,
     "metadata": {},
     "output_type": "execute_result"
    }
   ],
   "source": [
    "townmap = {\n",
    "    1.0:750000,\n",
    "    2.0: 250000,\n",
    "    3.0:60000,\n",
    "    4.0:12500,\n",
    "   5.0:2500,\n",
    "}\n",
    "df_1[\"urbanismo\"] = df_1[\"domicil\"].apply(lambda x: townmap[x])\n",
    "df_1[\"urbanismo\"].unique()"
   ]
  },
  {
   "cell_type": "code",
   "execution_count": 83,
   "id": "371b6fb9",
   "metadata": {},
   "outputs": [
    {
     "name": "stdout",
     "output_type": "stream",
     "text": [
      "685 2.0     313\n",
      "1.0     187\n",
      "3.0     129\n",
      "16.0    104\n",
      "5.0      68\n",
      "10.0     47\n",
      "13.0     15\n",
      "54.0     15\n",
      "8.0      15\n",
      "11.0     13\n",
      "14.0     12\n",
      "55.0     12\n",
      "18.0     11\n",
      "53.0      9\n",
      "9.0       7\n",
      "7.0       7\n",
      "19.0      6\n",
      "15.0      4\n",
      "17.0      4\n",
      "12.0      3\n",
      "20.0      2\n",
      "Name: prtvtees, dtype: int64\n"
     ]
    }
   ],
   "source": [
    "print(df_1[\"prtvtees\"].isna().sum(),\n",
    "      df_1[\"prtvtees\"].value_counts())"
   ]
  },
  {
   "cell_type": "code",
   "execution_count": 79,
   "id": "df7a3659",
   "metadata": {},
   "outputs": [
    {
     "data": {
      "text/plain": [
       "No procede    860\n",
       "PSOE          313\n",
       "PP            187\n",
       "UP            136\n",
       "VOX           104\n",
       "CS             68\n",
       "Name: party, dtype: int64"
      ]
     },
     "execution_count": 79,
     "metadata": {},
     "output_type": "execute_result"
    }
   ],
   "source": [
    "def my_recodeclass(a):\n",
    "    if a == 1.0:\n",
    "        return \"PP\"\n",
    "    if a == 2.0:\n",
    "        return \"PSOE\"\n",
    "    if (a>2 and a<5) or (a>5.0 and a<8.0):\n",
    "        return \"UP\"\n",
    "    if a == 5.0:\n",
    "        return \"CS\"\n",
    "    if a == 16.0:\n",
    "        return \"VOX\"\n",
    "    else:\n",
    "        return \"No procede\"\n",
    "    \n",
    "df_1[\"party\"] = df_1[\"prtvtees\"].apply(my_recodeclass)\n",
    "df_1[\"party\"].value_counts()"
   ]
  },
  {
   "cell_type": "code",
   "execution_count": 84,
   "id": "dace2622",
   "metadata": {},
   "outputs": [
    {
     "data": {
      "text/plain": [
       "array([4., 5., 1., 3., 2.])"
      ]
     },
     "execution_count": 84,
     "metadata": {},
     "output_type": "execute_result"
    }
   ],
   "source": [
    "df_1[\"gincdif\"] = (df_1[\"gincdif\"]-6)*-1\n",
    "df_1[\"gincdif\"].unique()"
   ]
  },
  {
   "cell_type": "code",
   "execution_count": 87,
   "id": "d83b3840",
   "metadata": {},
   "outputs": [
    {
     "data": {
      "text/html": [
       "<div>\n",
       "<style scoped>\n",
       "    .dataframe tbody tr th:only-of-type {\n",
       "        vertical-align: middle;\n",
       "    }\n",
       "\n",
       "    .dataframe tbody tr th {\n",
       "        vertical-align: top;\n",
       "    }\n",
       "\n",
       "    .dataframe thead th {\n",
       "        text-align: right;\n",
       "    }\n",
       "</style>\n",
       "<table border=\"1\" class=\"dataframe\">\n",
       "  <thead>\n",
       "    <tr style=\"text-align: right;\">\n",
       "      <th></th>\n",
       "      <th>domicil</th>\n",
       "      <th>hinctnta</th>\n",
       "      <th>imwbcnt</th>\n",
       "      <th>gincdif</th>\n",
       "      <th>urbanismo</th>\n",
       "    </tr>\n",
       "    <tr>\n",
       "      <th>party</th>\n",
       "      <th></th>\n",
       "      <th></th>\n",
       "      <th></th>\n",
       "      <th></th>\n",
       "      <th></th>\n",
       "    </tr>\n",
       "  </thead>\n",
       "  <tbody>\n",
       "    <tr>\n",
       "      <th>CS</th>\n",
       "      <td>2.823529</td>\n",
       "      <td>5.676471</td>\n",
       "      <td>5.529412</td>\n",
       "      <td>3.720588</td>\n",
       "      <td>197352.941176</td>\n",
       "    </tr>\n",
       "    <tr>\n",
       "      <th>PP</th>\n",
       "      <td>3.026738</td>\n",
       "      <td>4.962567</td>\n",
       "      <td>5.032086</td>\n",
       "      <td>3.737968</td>\n",
       "      <td>192018.716578</td>\n",
       "    </tr>\n",
       "    <tr>\n",
       "      <th>PSOE</th>\n",
       "      <td>3.038339</td>\n",
       "      <td>4.948882</td>\n",
       "      <td>5.805112</td>\n",
       "      <td>4.143770</td>\n",
       "      <td>186797.124601</td>\n",
       "    </tr>\n",
       "    <tr>\n",
       "      <th>UP</th>\n",
       "      <td>2.830882</td>\n",
       "      <td>5.455882</td>\n",
       "      <td>6.742647</td>\n",
       "      <td>4.382353</td>\n",
       "      <td>220110.294118</td>\n",
       "    </tr>\n",
       "    <tr>\n",
       "      <th>VOX</th>\n",
       "      <td>3.269231</td>\n",
       "      <td>5.432692</td>\n",
       "      <td>3.865385</td>\n",
       "      <td>3.769231</td>\n",
       "      <td>121177.884615</td>\n",
       "    </tr>\n",
       "  </tbody>\n",
       "</table>\n",
       "</div>"
      ],
      "text/plain": [
       "        domicil  hinctnta   imwbcnt   gincdif      urbanismo\n",
       "party                                                       \n",
       "CS     2.823529  5.676471  5.529412  3.720588  197352.941176\n",
       "PP     3.026738  4.962567  5.032086  3.737968  192018.716578\n",
       "PSOE   3.038339  4.948882  5.805112  4.143770  186797.124601\n",
       "UP     2.830882  5.455882  6.742647  4.382353  220110.294118\n",
       "VOX    3.269231  5.432692  3.865385  3.769231  121177.884615"
      ]
     },
     "execution_count": 87,
     "metadata": {},
     "output_type": "execute_result"
    }
   ],
   "source": [
    "df_1.drop([\"prtvtees\"],axis=1, inplace=True)\n",
    "means = df_1[df_1[\"party\"] != \"No procede\"].groupby(\"party\").mean()\n",
    "means"
   ]
  },
  {
   "cell_type": "code",
   "execution_count": 89,
   "id": "5cdc2fc0",
   "metadata": {},
   "outputs": [
    {
     "data": {
      "text/plain": [
       "<AxesSubplot:xlabel='Población', ylabel='Ingresos [Escala 1-10]'>"
      ]
     },
     "execution_count": 89,
     "metadata": {},
     "output_type": "execute_result"
    },
    {
     "data": {
      "image/png": "[encoded data removed]",
      "text/plain": [
       "<Figure size 720x720 with 1 Axes>"
      ]
     },
     "metadata": {
      "needs_background": "light"
     },
     "output_type": "display_data"
    }
   ],
   "source": [
    "from matplotlib import pyplot as plt\n",
    "plt.figure(figsize=(10, 10))\n",
    "plt.axhline(y=df_1[\"hinctnta\"].mean(), color = \"black\")\n",
    "plt.axvline(x=df_1[\"urbanismo\"].mean(), color = \"black\")\n",
    "plt.xlabel(\"Población\", fontsize=15)\n",
    "plt.ylabel(\"Ingresos [Escala 1-10]\", fontsize=15)\n",
    "sns.scatterplot(data=means, x=\"urbanismo\", y=\"hinctnta\", hue=\"party\", s=700, \n",
    "                palette=[\"orange\", \"dodgerblue\", \"red\", \"purple\", \"green\"])"
   ]
  },
  {
   "cell_type": "code",
   "execution_count": 91,
   "id": "e5f5f109",
   "metadata": {},
   "outputs": [
    {
     "data": {
      "text/plain": [
       "<AxesSubplot:xlabel='Redistribución [Escala 1-5]', ylabel='Inmigración [Escala 0-10]'>"
      ]
     },
     "execution_count": 91,
     "metadata": {},
     "output_type": "execute_result"
    },
    {
     "data": {
      "image/png": "[encoded data removed]",
      "text/plain": [
       "<Figure size 720x720 with 1 Axes>"
      ]
     },
     "metadata": {
      "needs_background": "light"
     },
     "output_type": "display_data"
    }
   ],
   "source": [
    "plt.figure(figsize=(10, 10))\n",
    "plt.axhline(y=df_1[\"imwbcnt\"].mean(), color = \"black\")\n",
    "plt.axvline(x=df_1[\"gincdif\"].mean(), color = \"black\")\n",
    "plt.xlabel(\"Redistribución [Escala 1-5]\", fontsize=15)\n",
    "plt.ylabel(\"Inmigración [Escala 0-10]\", fontsize=15)\n",
    "sns.scatterplot(data=means, x=\"gincdif\", y=\"imwbcnt\", hue=\"party\", s=700, \n",
    "                palette=[\"orange\", \"dodgerblue\", \"red\", \"purple\", \"green\"])"
   ]
  }
 ],
 "metadata": {
  "kernelspec": {
   "display_name": "Python 3 (ipykernel)",
   "language": "python",
   "name": "python3"
  },
  "language_info": {
   "codemirror_mode": {
    "name": "ipython",
    "version": 3
   },
   "file_extension": ".py",
   "mimetype": "text/x-python",
   "name": "python",
   "nbconvert_exporter": "python",
   "pygments_lexer": "ipython3",
   "version": "3.9.12"
  }
 },
 "nbformat": 4,
 "nbformat_minor": 5
}
